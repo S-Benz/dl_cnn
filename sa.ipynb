{
 "cells": [
  {
   "cell_type": "markdown",
   "metadata": {},
   "source": [
    "### Install python libraries"
   ]
  },
  {
   "cell_type": "code",
   "execution_count": 12,
   "metadata": {},
   "outputs": [
    {
     "name": "stdout",
     "output_type": "stream",
     "text": [
      "Requirement already satisfied: wget in /home/stefan/Uni/Master/2.Semester/Deep_Learning/Praktikum/dl/lib/python3.6/site-packages (3.2)\r\n"
     ]
    }
   ],
   "source": [
    "!pip install wget"
   ]
  },
  {
   "cell_type": "code",
   "execution_count": 4,
   "metadata": {},
   "outputs": [],
   "source": [
    "import tensorflow as tf\n",
    "import numpy as np\n",
    "import pickle \n",
    "import tarfile\n",
    "import wget\n",
    "import os.path"
   ]
  },
  {
   "cell_type": "markdown",
   "metadata": {},
   "source": [
    "### Load the CIFAR-100 dataset"
   ]
  },
  {
   "cell_type": "code",
   "execution_count": 5,
   "metadata": {},
   "outputs": [],
   "source": [
    "# get dict of cifar data file\n",
    "# TODO: fix byte string error e.g. dict key data -> b'data' after pickle.load!!!\n",
    "def batch_to_dict(file):\n",
    "    with open(file, \"rb\") as f:\n",
    "        dict = pickle.load(f, encoding=\"bytes\")\n",
    "    return dict    "
   ]
  },
  {
   "cell_type": "code",
   "execution_count": 9,
   "metadata": {},
   "outputs": [],
   "source": [
    "'''\n",
    "convert batch_data to images\n",
    "\n",
    "bdata: 10.000x3.072 array of uint8\n",
    "one row = one 32x32 rgb image, first 1024 entries are red, second blue, third green\n",
    "img is stored in row-major order -> first 32 entries of the array are the red channel values of the first row of the image\n",
    "--------\n",
    "[0]    |       [0]   |\n",
    "[...]  |-> red [...] |-> red_img_1[0] ...\n",
    "[1023] |       [32]  |\n",
    "--------\n",
    "[1024] |        [0]    | \n",
    "[...]  |-> green [...] |-> green_img_1[0] ...\n",
    "[2048] |        [32]   |\n",
    "--------\n",
    "[2049] |         [0]  |\n",
    "[...]  |-> blue [...] |-> blue_img_1[0]...\n",
    "[3072] |         [32] |\n",
    "--------\n",
    "'''\n",
    "def bdata_to_images(bdata):\n",
    "    data = np.reshape(bdata, (-1,3,32,32))\n",
    "    data = np.transpose(data, (0, 2, 3, 1))\n",
    "    return data\n",
    "\n",
    "def map_label(label):\n",
    "    living_labels = [2,3,4,5,6,7]\n",
    "    return int(label in living_labels)"
   ]
  },
  {
   "cell_type": "code",
   "execution_count": 21,
   "metadata": {},
   "outputs": [
    {
     "name": "stdout",
     "output_type": "stream",
     "text": [
      "(50000, 32, 32, 3)\n"
     ]
    }
   ],
   "source": [
    "cifar_data_url = \"https://www.cs.toronto.edu/~kriz/cifar-10-python.tar.gz\"\n",
    "dl_dir = \"cifar.tar.gz\"\n",
    "batches_dir = \"cifar-batches\"\n",
    "train_batch_files = [batches_dir + \"/data_batch_1\",\n",
    "               batches_dir + \"/data_batch_2\", \n",
    "               batches_dir + \"/data_batch_3\", \n",
    "               batches_dir + \"/data_batch_4\", \n",
    "               batches_dir + \"/data_batch_5\"]\n",
    "test_batch_file = batches_dir + \"/test_batch\"\n",
    "\n",
    "batch_meta = batches_dir + \"/batches.meta\"\n",
    "batch_dicts = {}\n",
    "test_batch_dict = {}\n",
    "labels = []\n",
    "\n",
    "# check if data set has been downloaded\n",
    "if not os.path.exists(dl_dir):\n",
    "    wget.download(cifar_data_url, dl_dir)\n",
    "\n",
    "# extract the batches\n",
    "if not os.path.exists(batches_dir):    \n",
    "    tar = tarfile.open(dl_dir, \"r:gz\")\n",
    "    for member in tar.getmembers():\n",
    "        if member.isreg():\n",
    "            member.name = os.path.basename(member.name)\n",
    "            tar.extract(member, batches_dir)\n",
    "    tar.close()\n",
    "\n",
    "# convert train batches to dicts and save in batch_dicts\n",
    "# dict_keys([b'batch_label', b'labels', b'data', b'filenames'])\n",
    "for batch in train_batch_files:\n",
    "    d = batch_to_dict(batch)\n",
    "    k = os.path.basename(batch)\n",
    "    batch_dicts[k] = d\n",
    "\n",
    "# convert test batch to dict\n",
    "test_batch_dict = batch_to_dict(test_batch_file)\n",
    "        \n",
    "'''\n",
    "b'num_cases_per_batch': 10000,\n",
    "b'label_names': [b'airplane', b'automobile', b'bird', b'cat', b'deer',\n",
    "b'dog', b'frog', b'horse', b'ship', b'truck'], \n",
    "b'num_vis': 3072\n",
    "'''   \n",
    "# list of all 10 classes\n",
    "meta = batch_to_dict(batch_meta)\n",
    "class_list = meta[b'label_names']\n",
    "\n",
    "train_labels = []\n",
    "train_data = np.array([])\n",
    "\n",
    "# concatenate all train datas\n",
    "train_data = np.concatenate((bdata_to_images(batch_dicts['data_batch_1'][b'data']), \n",
    "bdata_to_images(batch_dicts['data_batch_2'][b'data']),\n",
    "bdata_to_images(batch_dicts['data_batch_3'][b'data']),\n",
    "bdata_to_images(batch_dicts['data_batch_4'][b'data']),\n",
    "bdata_to_images(batch_dicts['data_batch_5'][b'data'])))\n",
    "\n",
    "# concatenate all labels\n",
    "for key in batch_dicts.keys(): \n",
    "    labels = list(map(map_label, batch_dicts[key][b'labels']))      \n",
    "    train_labels.append(labels)                       \n",
    "                           "
   ]
  },
  {
   "cell_type": "markdown",
   "metadata": {},
   "source": [
    "### Define Cnn with keras"
   ]
  },
  {
   "cell_type": "code",
   "execution_count": null,
   "metadata": {
    "scrolled": true
   },
   "outputs": [],
   "source": []
  }
 ],
 "metadata": {
  "anaconda-cloud": {},
  "kernelspec": {
   "display_name": "Python 3",
   "language": "python",
   "name": "python3"
  },
  "language_info": {
   "codemirror_mode": {
    "name": "ipython",
    "version": 3
   },
   "file_extension": ".py",
   "mimetype": "text/x-python",
   "name": "python",
   "nbconvert_exporter": "python",
   "pygments_lexer": "ipython3",
   "version": "3.6.9"
  },
  "widgets": {
   "application/vnd.jupyter.widget-state+json": {
    "state": {},
    "version_major": 2,
    "version_minor": 0
   }
  }
 },
 "nbformat": 4,
 "nbformat_minor": 2
}
