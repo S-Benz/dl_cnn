{
 "cells": [
  {
   "cell_type": "markdown",
   "metadata": {},
   "source": [
    "[![Open In Colab](https://colab.research.google.com/assets/colab-badge.svg)](https://colab.research.google.com/github/S-Benz/dl_cnn/blob/master/sa.ipynb)"
   ]
  },
  {
   "cell_type": "markdown",
   "metadata": {},
   "source": [
    "### Install python libraries"
   ]
  },
  {
   "cell_type": "code",
   "execution_count": null,
   "metadata": {},
   "outputs": [],
   "source": [
    "!pip install wget"
   ]
  },
  {
   "cell_type": "code",
   "execution_count": 1,
   "metadata": {},
   "outputs": [],
   "source": [
    "from __future__ import absolute_import, division, print_function, unicode_literals\n",
    "\n",
    "import tensorflow as tf\n",
    "import numpy as np\n",
    "import pickle \n",
    "import tarfile\n",
    "import wget\n",
    "import os.path\n",
    "import matplotlib.pyplot as plt\n",
    "import cv2\n",
    "import imutils"
   ]
  },
  {
   "cell_type": "code",
   "execution_count": 2,
   "metadata": {},
   "outputs": [],
   "source": [
    "# get dict of cifar data file\n",
    "# TODO: fix byte string error e.g. dict key data -> b'data' after pickle.load!!!\n",
    "def batch_to_dict(file):\n",
    "    with open(file, \"rb\") as f:\n",
    "        dict = pickle.load(f, encoding=\"bytes\")\n",
    "    return dict    "
   ]
  },
  {
   "cell_type": "code",
   "execution_count": 3,
   "metadata": {},
   "outputs": [],
   "source": [
    "# convert batch_data to images\n",
    "def bdata_to_images(bdata):\n",
    "    #  Reshape data and to float and normalize it to avoid exploding weights\n",
    "    data = np.reshape(bdata, (-1,3,32,32)).astype(\"float32\") / 255\n",
    "    # Transpose data to shape (32, 32, 3) for the keras model\n",
    "    data = np.transpose(data, (0, 2, 3, 1))\n",
    "    return data\n",
    "\n",
    "def map_label(label):\n",
    "    living_labels = [2,3,4,5,6,7]\n",
    "    return int(label in living_labels)"
   ]
  },
  {
   "cell_type": "markdown",
   "metadata": {},
   "source": [
    "### Load the CIFAR-100 dataset"
   ]
  },
  {
   "cell_type": "code",
   "execution_count": 4,
   "metadata": {},
   "outputs": [],
   "source": [
    "cifar_data_url = \"https://www.cs.toronto.edu/~kriz/cifar-10-python.tar.gz\"\n",
    "dl_dir = \"cifar.tar.gz\"\n",
    "batches_dir = \"cifar-batches\"\n",
    "train_batch_files = [batches_dir + \"/data_batch_1\",\n",
    "               batches_dir + \"/data_batch_2\", \n",
    "               batches_dir + \"/data_batch_3\", \n",
    "               batches_dir + \"/data_batch_4\", \n",
    "               batches_dir + \"/data_batch_5\"]\n",
    "test_batch_file = batches_dir + \"/test_batch\"\n",
    "\n",
    "batch_meta = batches_dir + \"/batches.meta\"\n",
    "\n",
    "# check if data set has been downloaded\n",
    "if not os.path.exists(dl_dir):\n",
    "    wget.download(cifar_data_url, dl_dir)\n",
    "\n",
    "# extract the batches\n",
    "if not os.path.exists(batches_dir):    \n",
    "    tar = tarfile.open(dl_dir, \"r:gz\")\n",
    "    for member in tar.getmembers():\n",
    "        if member.isreg():\n",
    "            member.name = os.path.basename(member.name)\n",
    "            tar.extract(member, batches_dir)\n",
    "    tar.close()\n",
    "\n",
    "batch_dicts = {}\n",
    "    \n",
    "# convert train batches to dicts and save in batch_dicts\n",
    "# dict_keys([b'batch_label', b'labels', b'data', b'filenames'])\n",
    "for batch in train_batch_files:\n",
    "    d = batch_to_dict(batch)\n",
    "    k = os.path.basename(batch)\n",
    "    batch_dicts[k] = d                          "
   ]
  },
  {
   "cell_type": "markdown",
   "metadata": {},
   "source": [
    "### Get Train & Test Labels/Data"
   ]
  },
  {
   "cell_type": "code",
   "execution_count": 5,
   "metadata": {},
   "outputs": [],
   "source": [
    "# get train data & labels\n",
    "train_labels = np.array([])\n",
    "train_data = np.array([])\n",
    "\n",
    "# concatenate all train datas\n",
    "train_data = np.concatenate((bdata_to_images(batch_dicts['data_batch_1'][b'data']), \n",
    "bdata_to_images(batch_dicts['data_batch_2'][b'data']),\n",
    "bdata_to_images(batch_dicts['data_batch_3'][b'data']),\n",
    "bdata_to_images(batch_dicts['data_batch_4'][b'data']),\n",
    "bdata_to_images(batch_dicts['data_batch_5'][b'data'])), axis=0)\n",
    "\n",
    "# concatenate all labels\n",
    "for key in batch_dicts.keys(): \n",
    "    labels = np.asarray(list((map(map_label, batch_dicts[key][b'labels']))))   \n",
    "    train_labels = np.append(train_labels, labels)\n",
    "    \n",
    "# get test data & labels\n",
    "test_batch = batch_to_dict(test_batch_file)\n",
    "test_data = bdata_to_images(test_batch[b'data'])\n",
    "test_labels = np.asarray(list((map(map_label, test_batch[b'labels']))))"
   ]
  },
  {
   "cell_type": "markdown",
   "metadata": {},
   "source": [
    "### Augment training data"
   ]
  },
  {
   "cell_type": "code",
   "execution_count": 6,
   "metadata": {},
   "outputs": [
    {
     "name": "stdout",
     "output_type": "stream",
     "text": [
      "(50000, 32, 32, 3)\n",
      "(50000,)\n"
     ]
    }
   ],
   "source": [
    "'''\n",
    " Rotate an array of images by the given angle\n",
    " angle: cv2.ROTATE_90_CLOCKWISE, cv2.ROTATE_90_COUNTERCLOCKWISE, cv2.ROTATE_180\n",
    "'''\n",
    "def rotate_img(images, angle):\n",
    "  rotated_images = [cv2.rotate(images[i], angle) for i in range(len(images))]\n",
    "  return np.asarray(rotated_images)\n",
    " \n",
    "'''\n",
    "Flipp an array of images\n",
    "axis - 0 for vertical flip, 1 for horizontal flip, -1 for vertical & horizontal flip\n",
    "'''\n",
    "def flip_images(images, axis):\n",
    "  flipped = [cv2.flip(images[i], axis) for i in range(len(images))]  \n",
    "  return np.asarray(flipped)\n",
    "\n",
    "def translate_images(images, x, y):\n",
    "    translated = [imutils.translate(images[i], x,y) for i in range(len(images))]\n",
    "    return np.asarray(translated)\n",
    "\n",
    "print(train_data.shape)\n",
    "print(train_labels.shape)"
   ]
  },
  {
   "cell_type": "code",
   "execution_count": 7,
   "metadata": {},
   "outputs": [
    {
     "ename": "MemoryError",
     "evalue": "",
     "output_type": "error",
     "traceback": [
      "\u001b[0;31m---------------------------------------------------------------------------\u001b[0m",
      "\u001b[0;31mMemoryError\u001b[0m                               Traceback (most recent call last)",
      "\u001b[0;32m<ipython-input-7-8df1e584255e>\u001b[0m in \u001b[0;36m<module>\u001b[0;34m\u001b[0m\n\u001b[1;32m     20\u001b[0m \u001b[0;31m# augment data by rotating images\u001b[0m\u001b[0;34m\u001b[0m\u001b[0;34m\u001b[0m\u001b[0;34m\u001b[0m\u001b[0m\n\u001b[1;32m     21\u001b[0m \u001b[0mrotate_ninety_cw\u001b[0m \u001b[0;34m=\u001b[0m \u001b[0mrotate_img\u001b[0m\u001b[0;34m(\u001b[0m\u001b[0mtrain_data\u001b[0m\u001b[0;34m,\u001b[0m \u001b[0mcv2\u001b[0m\u001b[0;34m.\u001b[0m\u001b[0mROTATE_90_CLOCKWISE\u001b[0m\u001b[0;34m)\u001b[0m\u001b[0;34m\u001b[0m\u001b[0;34m\u001b[0m\u001b[0m\n\u001b[0;32m---> 22\u001b[0;31m \u001b[0mrotate_nintey_ccw\u001b[0m \u001b[0;34m=\u001b[0m \u001b[0mrotate_img\u001b[0m\u001b[0;34m(\u001b[0m\u001b[0mtrain_data\u001b[0m\u001b[0;34m,\u001b[0m \u001b[0mcv2\u001b[0m\u001b[0;34m.\u001b[0m\u001b[0mROTATE_90_COUNTERCLOCKWISE\u001b[0m\u001b[0;34m)\u001b[0m\u001b[0;34m\u001b[0m\u001b[0;34m\u001b[0m\u001b[0m\n\u001b[0m\u001b[1;32m     23\u001b[0m \u001b[0mend\u001b[0m \u001b[0;34m=\u001b[0m \u001b[0mtimer\u001b[0m\u001b[0;34m(\u001b[0m\u001b[0;34m)\u001b[0m\u001b[0;34m\u001b[0m\u001b[0;34m\u001b[0m\u001b[0m\n\u001b[1;32m     24\u001b[0m \u001b[0mprint\u001b[0m\u001b[0;34m(\u001b[0m\u001b[0mend\u001b[0m \u001b[0;34m-\u001b[0m \u001b[0mstart\u001b[0m\u001b[0;34m)\u001b[0m\u001b[0;34m\u001b[0m\u001b[0;34m\u001b[0m\u001b[0m\n",
      "\u001b[0;32m<ipython-input-6-249fcfc2b4d4>\u001b[0m in \u001b[0;36mrotate_img\u001b[0;34m(images, angle)\u001b[0m\n\u001b[1;32m      5\u001b[0m \u001b[0;32mdef\u001b[0m \u001b[0mrotate_img\u001b[0m\u001b[0;34m(\u001b[0m\u001b[0mimages\u001b[0m\u001b[0;34m,\u001b[0m \u001b[0mangle\u001b[0m\u001b[0;34m)\u001b[0m\u001b[0;34m:\u001b[0m\u001b[0;34m\u001b[0m\u001b[0;34m\u001b[0m\u001b[0m\n\u001b[1;32m      6\u001b[0m   \u001b[0mrotated_images\u001b[0m \u001b[0;34m=\u001b[0m \u001b[0;34m[\u001b[0m\u001b[0mcv2\u001b[0m\u001b[0;34m.\u001b[0m\u001b[0mrotate\u001b[0m\u001b[0;34m(\u001b[0m\u001b[0mimages\u001b[0m\u001b[0;34m[\u001b[0m\u001b[0mi\u001b[0m\u001b[0;34m]\u001b[0m\u001b[0;34m,\u001b[0m \u001b[0mangle\u001b[0m\u001b[0;34m)\u001b[0m \u001b[0;32mfor\u001b[0m \u001b[0mi\u001b[0m \u001b[0;32min\u001b[0m \u001b[0mrange\u001b[0m\u001b[0;34m(\u001b[0m\u001b[0mlen\u001b[0m\u001b[0;34m(\u001b[0m\u001b[0mimages\u001b[0m\u001b[0;34m)\u001b[0m\u001b[0;34m)\u001b[0m\u001b[0;34m]\u001b[0m\u001b[0;34m\u001b[0m\u001b[0;34m\u001b[0m\u001b[0m\n\u001b[0;32m----> 7\u001b[0;31m   \u001b[0;32mreturn\u001b[0m \u001b[0mnp\u001b[0m\u001b[0;34m.\u001b[0m\u001b[0masarray\u001b[0m\u001b[0;34m(\u001b[0m\u001b[0mrotated_images\u001b[0m\u001b[0;34m)\u001b[0m\u001b[0;34m\u001b[0m\u001b[0;34m\u001b[0m\u001b[0m\n\u001b[0m\u001b[1;32m      8\u001b[0m \u001b[0;34m\u001b[0m\u001b[0m\n\u001b[1;32m      9\u001b[0m '''\n",
      "\u001b[0;32m~/Uni/Master/2.Semester/Deep_Learning/Praktikum/dl/lib/python3.6/site-packages/numpy/core/numeric.py\u001b[0m in \u001b[0;36masarray\u001b[0;34m(a, dtype, order)\u001b[0m\n\u001b[1;32m    536\u001b[0m \u001b[0;34m\u001b[0m\u001b[0m\n\u001b[1;32m    537\u001b[0m     \"\"\"\n\u001b[0;32m--> 538\u001b[0;31m     \u001b[0;32mreturn\u001b[0m \u001b[0marray\u001b[0m\u001b[0;34m(\u001b[0m\u001b[0ma\u001b[0m\u001b[0;34m,\u001b[0m \u001b[0mdtype\u001b[0m\u001b[0;34m,\u001b[0m \u001b[0mcopy\u001b[0m\u001b[0;34m=\u001b[0m\u001b[0;32mFalse\u001b[0m\u001b[0;34m,\u001b[0m \u001b[0morder\u001b[0m\u001b[0;34m=\u001b[0m\u001b[0morder\u001b[0m\u001b[0;34m)\u001b[0m\u001b[0;34m\u001b[0m\u001b[0;34m\u001b[0m\u001b[0m\n\u001b[0m\u001b[1;32m    539\u001b[0m \u001b[0;34m\u001b[0m\u001b[0m\n\u001b[1;32m    540\u001b[0m \u001b[0;34m\u001b[0m\u001b[0m\n",
      "\u001b[0;31mMemoryError\u001b[0m: "
     ]
    }
   ],
   "source": [
    "from timeit import default_timer as timer\n",
    "\n",
    "# copy labels of data that is augmented\n",
    "# they have to be added to the data labels for each augmentation\n",
    "t_labels = train_labels\n",
    "\n",
    "start = timer()\n",
    "# augment data by flipping images\n",
    "flip_horizontal = flip_images(train_data, 1)\n",
    "flip_vertical = flip_images(train_data, 0)\n",
    "flip_both = flip_images(train_data, -1)\n",
    "\n",
    "# augment data by translating images\n",
    "translate_right= translate_images(train_data, 5, 0)\n",
    "translate_left = translate_images(train_data, -5, 0)\n",
    "translate_up = translate_images(train_data, 0 ,5)\n",
    "translate_down = translate_images(train_data, 0,  -5)\n",
    "\n",
    "\n",
    "# augment data by rotating images\n",
    "rotate_ninety_cw = rotate_img(train_data, cv2.ROTATE_90_CLOCKWISE)\n",
    "rotate_nintey_ccw = rotate_img(train_data, cv2.ROTATE_90_COUNTERCLOCKWISE)\n",
    "end = timer()\n",
    "print(end - start)\n",
    "\n",
    "# concatenate train data with augmented data\n",
    "train_data = np.concatenate([train_data,\n",
    "                             flip_vertical, \n",
    "                             flip_horizontal,\n",
    "                             flip_both,\n",
    "                             rotate_ninety_cw,\n",
    "                             rotate_nintey_ccw,\n",
    "                             translate_right,\n",
    "                             translate_left,\n",
    "                             translate_up,\n",
    "                             translate_down])\n",
    "\n",
    "# expand train_labels\n",
    "train_labels = np.tile(train_labels, 10)\n",
    "\n",
    "# confirm that the shape is still correct\n",
    "print(train_data.shape)\n",
    "print(train_labels.shape)"
   ]
  },
  {
   "cell_type": "markdown",
   "metadata": {},
   "source": [
    "### Plot sample images"
   ]
  },
  {
   "cell_type": "code",
   "execution_count": null,
   "metadata": {},
   "outputs": [],
   "source": [
    "rows = 5\n",
    "cols = 5\n",
    "fig = plt.figure(figsize=(16, 16))\n",
    "for i in range(cols * rows):\n",
    "    fig.add_subplot(rows, cols, i + 1)\n",
    "    plt.imshow(translate_im[i])\n",
    "plt.show()\n",
    "    "
   ]
  },
  {
   "cell_type": "markdown",
   "metadata": {},
   "source": [
    "### Define CNN Model with Keras"
   ]
  },
  {
   "cell_type": "code",
   "execution_count": null,
   "metadata": {},
   "outputs": [],
   "source": [
    "model = tf.keras.models.Sequential()\n",
    "# First conv layer\n",
    "model.add(tf.keras.layers.Conv2D(32, (3,3), padding=\"same\", activation=\"relu\", input_shape=(32,32,3)))\n",
    "model.add(tf.keras.layers.Conv2D(32, (3,3), padding=\"same\", activation=\"relu\"))\n",
    "model.add(tf.keras.layers.MaxPool2D(pool_size=(2,2)))\n",
    "model.add(tf.keras.layers.Dropout(0.2))\n",
    "\n",
    "# Second conv layer\n",
    "model.add(tf.keras.layers.Conv2D(64, (3,3), padding=\"same\", activation=\"relu\"))\n",
    "model.add(tf.keras.layers.Conv2D(64, (3,3), padding=\"same\", activation=\"relu\"))\n",
    "model.add(tf.keras.layers.MaxPool2D(pool_size=(2,2)))\n",
    "model.add(tf.keras.layers.Dropout(0.2))\n",
    "\n",
    "# Third conv layer\n",
    "model.add(tf.keras.layers.Conv2D(128, (3,3), padding=\"same\", activation=\"relu\"))\n",
    "model.add(tf.keras.layers.Conv2D(128, (3,3), padding=\"same\", activation=\"relu\"))\n",
    "model.add(tf.keras.layers.Conv2D(128, (3,3), padding=\"same\", activation=\"relu\"))\n",
    "model.add(tf.keras.layers.MaxPool2D(pool_size=(2,2)))\n",
    "\n",
    "# Flatten the model\n",
    "model.add(tf.keras.layers.Flatten())\n",
    "# Dense layer\n",
    "model.add(tf.keras.layers.Dense(2048, activation=\"relu\"))\n",
    "model.add(tf.keras.layers.Dropout(0.4))\n",
    "model.add(tf.keras.layers.Dense(2, activation=\"softmax\"))"
   ]
  },
  {
   "cell_type": "code",
   "execution_count": null,
   "metadata": {},
   "outputs": [],
   "source": [
    "model.summary()"
   ]
  },
  {
   "cell_type": "markdown",
   "metadata": {},
   "source": [
    "### Compile & train the model"
   ]
  },
  {
   "cell_type": "code",
   "execution_count": null,
   "metadata": {},
   "outputs": [],
   "source": [
    "# Specify the training configuration (optimizer, loss, metrics)\n",
    "model.compile(optimizer=tf.keras.optimizers.Adam(lr=0.0001),  \n",
    "              loss='sparse_categorical_crossentropy',\n",
    "              metrics=['accuracy'])\n",
    "\n",
    "history = model.fit(train_data, train_labels, epochs=20, validation_data=(test_data, test_labels))"
   ]
  },
  {
   "cell_type": "markdown",
   "metadata": {},
   "source": [
    "### Plot the results"
   ]
  },
  {
   "cell_type": "code",
   "execution_count": null,
   "metadata": {},
   "outputs": [],
   "source": [
    "plt.plot(history.history['acc'], label='training')\n",
    "plt.plot(history.history['val_acc'], label='validation')\n",
    "plt.xlabel('Epoch')\n",
    "plt.ylabel('Accuracy')\n",
    "plt.ylim([0.5, 1])\n",
    "plt.legend(loc='lower left')\n",
    "\n",
    "final_loss, final_acc = model.evaluate(test_data, test_labels, verbose=2)"
   ]
  },
  {
   "cell_type": "code",
   "execution_count": null,
   "metadata": {},
   "outputs": [],
   "source": [
    "print(final_acc)\n",
    "print(final_loss)"
   ]
  }
 ],
 "metadata": {
  "anaconda-cloud": {},
  "celltoolbar": "Edit Metadata",
  "kernelspec": {
   "display_name": "Python 3",
   "language": "python",
   "name": "python3"
  },
  "language_info": {
   "codemirror_mode": {
    "name": "ipython",
    "version": 3
   },
   "file_extension": ".py",
   "mimetype": "text/x-python",
   "name": "python",
   "nbconvert_exporter": "python",
   "pygments_lexer": "ipython3",
   "version": "3.6.9"
  },
  "widgets": {
   "application/vnd.jupyter.widget-state+json": {
    "state": {},
    "version_major": 2,
    "version_minor": 0
   }
  }
 },
 "nbformat": 4,
 "nbformat_minor": 2
}
