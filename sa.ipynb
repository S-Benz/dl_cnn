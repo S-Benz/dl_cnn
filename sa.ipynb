{
 "cells": [
  {
   "cell_type": "markdown",
   "metadata": {},
   "source": [
    "[![Open In Colab](https://colab.research.google.com/assets/colab-badge.svg)](https://colab.research.google.com/github.com/S-Benz/dl_cnn/blob/master/sa.ipynb)"
   ]
  },
  {
   "cell_type": "markdown",
   "metadata": {},
   "source": [
    "### Install python libraries"
   ]
  },
  {
   "cell_type": "code",
   "execution_count": 12,
   "metadata": {},
   "outputs": [
    {
     "name": "stdout",
     "output_type": "stream",
     "text": [
      "Requirement already satisfied: wget in /home/stefan/Uni/Master/2.Semester/Deep_Learning/Praktikum/dl/lib/python3.6/site-packages (3.2)\r\n"
     ]
    }
   ],
   "source": [
    "!pip install wget"
   ]
  },
  {
   "cell_type": "code",
   "execution_count": 21,
   "metadata": {},
   "outputs": [
    {
     "ename": "ModuleNotFoundError",
     "evalue": "No module named 'tensorflow.keras'",
     "output_type": "error",
     "traceback": [
      "\u001b[0;31m---------------------------------------------------------------------------\u001b[0m",
      "\u001b[0;31mModuleNotFoundError\u001b[0m                       Traceback (most recent call last)",
      "\u001b[0;32m<ipython-input-21-7ef38f7697a7>\u001b[0m in \u001b[0;36m<module>\u001b[0;34m\u001b[0m\n\u001b[1;32m      7\u001b[0m \u001b[0;32mimport\u001b[0m \u001b[0mwget\u001b[0m\u001b[0;34m\u001b[0m\u001b[0;34m\u001b[0m\u001b[0m\n\u001b[1;32m      8\u001b[0m \u001b[0;32mimport\u001b[0m \u001b[0mos\u001b[0m\u001b[0;34m.\u001b[0m\u001b[0mpath\u001b[0m\u001b[0;34m\u001b[0m\u001b[0;34m\u001b[0m\u001b[0m\n\u001b[0;32m----> 9\u001b[0;31m \u001b[0;32mfrom\u001b[0m \u001b[0mtensorflow\u001b[0m\u001b[0;34m.\u001b[0m\u001b[0mkeras\u001b[0m \u001b[0;32mimport\u001b[0m \u001b[0mlayers\u001b[0m\u001b[0;34m,\u001b[0m \u001b[0mmodels\u001b[0m\u001b[0;34m,\u001b[0m \u001b[0moptimizers\u001b[0m\u001b[0;34m\u001b[0m\u001b[0;34m\u001b[0m\u001b[0m\n\u001b[0m\u001b[1;32m     10\u001b[0m \u001b[0;32mimport\u001b[0m \u001b[0mmatplotlib\u001b[0m\u001b[0;34m.\u001b[0m\u001b[0mpyplot\u001b[0m \u001b[0;32mas\u001b[0m \u001b[0mplt\u001b[0m\u001b[0;34m\u001b[0m\u001b[0;34m\u001b[0m\u001b[0m\n",
      "\u001b[0;31mModuleNotFoundError\u001b[0m: No module named 'tensorflow.keras'"
     ]
    }
   ],
   "source": [
    "from __future__ import absolute_import, division, print_function, unicode_literals\n",
    "\n",
    "import tensorflow as tf\n",
    "import numpy as np\n",
    "import pickle \n",
    "import tarfile\n",
    "import wget\n",
    "import os.path\n",
    "from tensorflow.keras import layers, models, optimizers\n",
    "import matplotlib.pyplot as plt"
   ]
  },
  {
   "cell_type": "code",
   "execution_count": 16,
   "metadata": {},
   "outputs": [],
   "source": [
    "# get dict of cifar data file\n",
    "# TODO: fix byte string error e.g. dict key data -> b'data' after pickle.load!!!\n",
    "def batch_to_dict(file):\n",
    "    with open(file, \"rb\") as f:\n",
    "        dict = pickle.load(f, encoding=\"bytes\")\n",
    "    return dict    "
   ]
  },
  {
   "cell_type": "code",
   "execution_count": 8,
   "metadata": {},
   "outputs": [],
   "source": [
    "# convert batch_data to images\n",
    "def bdata_to_images(bdata):\n",
    "    data = np.reshape(bdata, (-1,3,32,32))\n",
    "    data = np.transpose(data, (0, 2, 3, 1))\n",
    "    return data\n",
    "\n",
    "def map_label(label):\n",
    "    living_labels = [2,3,4,5,6,7]\n",
    "    return int(label in living_labels)"
   ]
  },
  {
   "cell_type": "markdown",
   "metadata": {},
   "source": [
    "### Load the CIFAR-100 dataset"
   ]
  },
  {
   "cell_type": "code",
   "execution_count": 13,
   "metadata": {},
   "outputs": [],
   "source": [
    "cifar_data_url = \"https://www.cs.toronto.edu/~kriz/cifar-10-python.tar.gz\"\n",
    "dl_dir = \"cifar.tar.gz\"\n",
    "batches_dir = \"cifar-batches\"\n",
    "train_batch_files = [batches_dir + \"/data_batch_1\",\n",
    "               batches_dir + \"/data_batch_2\", \n",
    "               batches_dir + \"/data_batch_3\", \n",
    "               batches_dir + \"/data_batch_4\", \n",
    "               batches_dir + \"/data_batch_5\"]\n",
    "test_batch_file = batches_dir + \"/test_batch\"\n",
    "\n",
    "batch_meta = batches_dir + \"/batches.meta\"\n",
    "\n",
    "# check if data set has been downloaded\n",
    "if not os.path.exists(dl_dir):\n",
    "    wget.download(cifar_data_url, dl_dir)\n",
    "\n",
    "# extract the batches\n",
    "if not os.path.exists(batches_dir):    \n",
    "    tar = tarfile.open(dl_dir, \"r:gz\")\n",
    "    for member in tar.getmembers():\n",
    "        if member.isreg():\n",
    "            member.name = os.path.basename(member.name)\n",
    "            tar.extract(member, batches_dir)\n",
    "    tar.close()\n",
    "\n",
    "batch_dicts = {}\n",
    "    \n",
    "# convert train batches to dicts and save in batch_dicts\n",
    "# dict_keys([b'batch_label', b'labels', b'data', b'filenames'])\n",
    "for batch in train_batch_files:\n",
    "    d = batch_to_dict(batch)\n",
    "    k = os.path.basename(batch)\n",
    "    batch_dicts[k] = d                          "
   ]
  },
  {
   "cell_type": "markdown",
   "metadata": {},
   "source": [
    "### Get Train & Test Labels/Data"
   ]
  },
  {
   "cell_type": "code",
   "execution_count": 14,
   "metadata": {},
   "outputs": [],
   "source": [
    "# get train data & labels\n",
    "train_labels = []\n",
    "train_data = np.array([])\n",
    "\n",
    "# concatenate all train datas\n",
    "train_data = np.concatenate((bdata_to_images(batch_dicts['data_batch_1'][b'data']), \n",
    "bdata_to_images(batch_dicts['data_batch_2'][b'data']),\n",
    "bdata_to_images(batch_dicts['data_batch_3'][b'data']),\n",
    "bdata_to_images(batch_dicts['data_batch_4'][b'data']),\n",
    "bdata_to_images(batch_dicts['data_batch_5'][b'data'])))\n",
    "\n",
    "# concatenate all labels\n",
    "for key in batch_dicts.keys(): \n",
    "    labels = list(map(map_label, batch_dicts[key][b'labels']))      \n",
    "    train_labels.append(labels)      \n",
    "    \n",
    "\n",
    "# get test data & labels\n",
    "test_batch = batch_to_dict(test_batch_file)\n",
    "test_data = bdata_to_images(test_batch[b'data'])\n",
    "test_labels = list(map(map_label, test_batch[b'labels']))  "
   ]
  },
  {
   "cell_type": "markdown",
   "metadata": {},
   "source": [
    "### Define CNN Model with Keras"
   ]
  },
  {
   "cell_type": "code",
   "execution_count": 20,
   "metadata": {
    "scrolled": true
   },
   "outputs": [
    {
     "ename": "NameError",
     "evalue": "name 'models' is not defined",
     "output_type": "error",
     "traceback": [
      "\u001b[0;31m---------------------------------------------------------------------------\u001b[0m",
      "\u001b[0;31mNameError\u001b[0m                                 Traceback (most recent call last)",
      "\u001b[0;32m<ipython-input-20-4b2a04fa04e4>\u001b[0m in \u001b[0;36m<module>\u001b[0;34m\u001b[0m\n\u001b[0;32m----> 1\u001b[0;31m \u001b[0mmodel\u001b[0m \u001b[0;34m=\u001b[0m \u001b[0mmodels\u001b[0m\u001b[0;34m.\u001b[0m\u001b[0mSequential\u001b[0m\u001b[0;34m(\u001b[0m\u001b[0;34m)\u001b[0m\u001b[0;34m\u001b[0m\u001b[0;34m\u001b[0m\u001b[0m\n\u001b[0m",
      "\u001b[0;31mNameError\u001b[0m: name 'models' is not defined"
     ]
    }
   ],
   "source": [
    "model = models.Sequential()"
   ]
  },
  {
   "cell_type": "code",
   "execution_count": null,
   "metadata": {},
   "outputs": [],
   "source": []
  }
 ],
 "metadata": {
  "anaconda-cloud": {},
  "kernelspec": {
   "display_name": "Python 3",
   "language": "python",
   "name": "python3"
  },
  "language_info": {
   "codemirror_mode": {
    "name": "ipython",
    "version": 3
   },
   "file_extension": ".py",
   "mimetype": "text/x-python",
   "name": "python",
   "nbconvert_exporter": "python",
   "pygments_lexer": "ipython3",
   "version": "3.6.9"
  },
  "widgets": {
   "application/vnd.jupyter.widget-state+json": {
    "state": {},
    "version_major": 2,
    "version_minor": 0
   }
  }
 },
 "nbformat": 4,
 "nbformat_minor": 2
}
