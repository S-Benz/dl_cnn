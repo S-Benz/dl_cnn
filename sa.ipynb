{
 "cells": [
  {
   "cell_type": "markdown",
   "metadata": {},
   "source": [
    "[![Open In Colab](https://colab.research.google.com/assets/colab-badge.svg)](https://colab.research.google.com/github/S-Benz/dl_cnn/blob/master/sa.ipynb)"
   ]
  },
  {
   "cell_type": "markdown",
   "metadata": {},
   "source": [
    "### Install python libraries"
   ]
  },
  {
   "cell_type": "code",
   "execution_count": 1,
   "metadata": {},
   "outputs": [
    {
     "name": "stdout",
     "output_type": "stream",
     "text": [
      "Requirement already satisfied: wget in c:\\users\\sbenz\\desktop\\dl_cnn\\venv\\lib\\site-packages (3.2)\n"
     ]
    },
    {
     "name": "stderr",
     "output_type": "stream",
     "text": [
      "You are using pip version 18.1, however version 19.3.1 is available.\n",
      "You should consider upgrading via the 'python -m pip install --upgrade pip' command.\n"
     ]
    }
   ],
   "source": [
    "!pip install wget"
   ]
  },
  {
   "cell_type": "code",
   "execution_count": 2,
   "metadata": {},
   "outputs": [],
   "source": [
    "from __future__ import absolute_import, division, print_function, unicode_literals\n",
    "\n",
    "import tensorflow as tf\n",
    "import numpy as np\n",
    "import pickle \n",
    "import tarfile\n",
    "import wget\n",
    "import os.path\n",
    "import matplotlib.pyplot as plt\n",
    "import cv2\n",
    "import imutils"
   ]
  },
  {
   "cell_type": "code",
   "execution_count": 3,
   "metadata": {},
   "outputs": [],
   "source": [
    "# get dict of cifar data file\n",
    "# TODO: fix byte string error e.g. dict key data -> b'data' after pickle.load!!!\n",
    "def batch_to_dict(file):\n",
    "    with open(file, \"rb\") as f:\n",
    "        dict = pickle.load(f, encoding=\"bytes\")\n",
    "    return dict    "
   ]
  },
  {
   "cell_type": "code",
   "execution_count": 4,
   "metadata": {},
   "outputs": [],
   "source": [
    "# convert batch_data to images\n",
    "def bdata_to_images(bdata):\n",
    "    #  Reshape data and to float and normalize it to avoid exploding weights\n",
    "    data = np.reshape(bdata, (-1,3,32,32)).astype(\"float32\") / 255\n",
    "    # Transpose data to shape (32, 32, 3) for the keras model\n",
    "    data = np.transpose(data, (0, 2, 3, 1))\n",
    "    return data\n",
    "\n",
    "def map_label(label):\n",
    "    living_labels = [2,3,4,5,6,7]\n",
    "    return int(label in living_labels)"
   ]
  },
  {
   "cell_type": "markdown",
   "metadata": {},
   "source": [
    "### Load the CIFAR-10 dataset"
   ]
  },
  {
   "cell_type": "code",
   "execution_count": 5,
   "metadata": {},
   "outputs": [],
   "source": [
    "cifar_data_url = \"https://www.cs.toronto.edu/~kriz/cifar-10-python.tar.gz\"\n",
    "dl_dir = \"cifar.tar.gz\"\n",
    "batches_dir = \"cifar-batches\"\n",
    "train_batch_files = [batches_dir + \"/data_batch_1\",\n",
    "               batches_dir + \"/data_batch_2\", \n",
    "               batches_dir + \"/data_batch_3\", \n",
    "               batches_dir + \"/data_batch_4\", \n",
    "               batches_dir + \"/data_batch_5\"]\n",
    "test_batch_file = batches_dir + \"/test_batch\"\n",
    "\n",
    "batch_meta = batches_dir + \"/batches.meta\"\n",
    "\n",
    "# check if data set has been downloaded\n",
    "if not os.path.exists(dl_dir):\n",
    "    wget.download(cifar_data_url, dl_dir)\n",
    "\n",
    "# extract the batches\n",
    "if not os.path.exists(batches_dir):    \n",
    "    tar = tarfile.open(dl_dir, \"r:gz\")\n",
    "    for member in tar.getmembers():\n",
    "        if member.isreg():\n",
    "            member.name = os.path.basename(member.name)\n",
    "            tar.extract(member, batches_dir)\n",
    "    tar.close()\n",
    "\n",
    "batch_dicts = {}\n",
    "    \n",
    "# convert train batches to dicts and save in batch_dicts\n",
    "# dict_keys([b'batch_label', b'labels', b'data', b'filenames'])\n",
    "for batch in train_batch_files:\n",
    "    d = batch_to_dict(batch)\n",
    "    k = os.path.basename(batch)\n",
    "    batch_dicts[k] = d                          "
   ]
  },
  {
   "cell_type": "markdown",
   "metadata": {},
   "source": [
    "### Get Train & Test Labels/Data"
   ]
  },
  {
   "cell_type": "code",
   "execution_count": 26,
   "metadata": {},
   "outputs": [],
   "source": [
    "# get train data & labels\n",
    "train_labels = np.array([])\n",
    "train_data = np.array([])\n",
    "\n",
    "# concatenate all train datas\n",
    "train_data = np.concatenate((bdata_to_images(batch_dicts['data_batch_1'][b'data']), \n",
    "bdata_to_images(batch_dicts['data_batch_2'][b'data']),\n",
    "bdata_to_images(batch_dicts['data_batch_3'][b'data']),\n",
    "bdata_to_images(batch_dicts['data_batch_4'][b'data']),\n",
    "bdata_to_images(batch_dicts['data_batch_5'][b'data'])), axis=0)\n",
    "\n",
    "# concatenate all labels\n",
    "for key in batch_dicts.keys(): \n",
    "    labels = np.asarray(list((map(map_label, batch_dicts[key][b'labels']))))   \n",
    "    train_labels = np.append(train_labels, labels)\n",
    "    \n",
    "# get test data & labels\n",
    "test_batch = batch_to_dict(test_batch_file)\n",
    "test_data = bdata_to_images(test_batch[b'data'])\n",
    "test_labels = np.asarray(list((map(map_label, test_batch[b'labels']))))"
   ]
  },
  {
   "cell_type": "markdown",
   "metadata": {},
   "source": [
    "### Augment training data"
   ]
  },
  {
   "cell_type": "code",
   "execution_count": 27,
   "metadata": {},
   "outputs": [
    {
     "name": "stdout",
     "output_type": "stream",
     "text": [
      "(50000, 32, 32, 3)\n",
      "(50000,)\n"
     ]
    }
   ],
   "source": [
    "'''\n",
    " Rotate an array of images by the given angle\n",
    " angle: cv2.ROTATE_90_CLOCKWISE, cv2.ROTATE_90_COUNTERCLOCKWISE, cv2.ROTATE_180\n",
    "'''\n",
    "def rotate_img(images, angle):\n",
    "  rotated_images = [cv2.rotate(images[i], angle) for i in range(len(images))]\n",
    "  return np.asarray(rotated_images)\n",
    " \n",
    "'''\n",
    "Flipp an array of images\n",
    "axis - 0 for vertical flip, 1 for horizontal flip, -1 for vertical & horizontal flip\n",
    "'''\n",
    "def flip_images(images, axis):\n",
    "  flipped = [cv2.flip(images[i], axis) for i in range(len(images))]  \n",
    "  return np.asarray(flipped)\n",
    "\n",
    "def translate_images(images, x, y):\n",
    "    translated = [imutils.translate(images[i], x,y) for i in range(len(images))]\n",
    "    return np.asarray(translated)\n",
    "\n",
    "print(train_data.shape)\n",
    "print(train_labels.shape)"
   ]
  },
  {
   "cell_type": "code",
   "execution_count": 28,
   "metadata": {},
   "outputs": [
    {
     "name": "stdout",
     "output_type": "stream",
     "text": [
      "11.187889699999687\n",
      "(500000, 32, 32, 3)\n",
      "(500000,)\n"
     ]
    }
   ],
   "source": [
    "from timeit import default_timer as timer\n",
    "\n",
    "# copy labels of data that is augmented\n",
    "# they have to be added to the data labels for each augmentation\n",
    "t_labels = train_labels\n",
    "\n",
    "start = timer()\n",
    "# augment data by flipping images\n",
    "flip_horizontal = flip_images(train_data, 1)\n",
    "flip_vertical = flip_images(train_data, 0)\n",
    "flip_both = flip_images(train_data, -1)\n",
    "\n",
    "# augment data by translating images\n",
    "translate_right= translate_images(train_data, 5, 0)\n",
    "translate_left = translate_images(train_data, -5, 0)\n",
    "translate_up = translate_images(train_data, 0 ,-5)\n",
    "translate_down = translate_images(train_data, 0,  5)\n",
    "\n",
    "\n",
    "# augment data by rotating images\n",
    "rotate_ninety_cw = rotate_img(train_data, cv2.ROTATE_90_CLOCKWISE)\n",
    "rotate_nintey_ccw = rotate_img(train_data, cv2.ROTATE_90_COUNTERCLOCKWISE)\n",
    "end = timer()\n",
    "print(end - start)\n",
    "\n",
    "# concatenate train data with augmented data\n",
    "train_data = np.concatenate([train_data,\n",
    "                             flip_vertical, \n",
    "                             flip_horizontal,\n",
    "                             flip_both,\n",
    "                             rotate_ninety_cw,\n",
    "                             rotate_nintey_ccw,\n",
    "                             translate_right,\n",
    "                             translate_left,\n",
    "                             translate_up,\n",
    "                             translate_down])\n",
    "\n",
    "# expand train_labels\n",
    "train_labels = np.tile(train_labels, 10)\n",
    "\n",
    "# confirm that the shape is still correct\n",
    "print(train_data.shape)\n",
    "print(train_labels.shape)\n"
   ]
  },
  {
   "cell_type": "markdown",
   "metadata": {},
   "source": [
    "### Plot sample images"
   ]
  },
  {
   "cell_type": "code",
   "execution_count": 39,
   "metadata": {},
   "outputs": [
    {
     "data": {
      "image/png": "[encoded data removed]",
      "text/plain": [
       "<Figure size 1152x1152 with 10 Axes>"
      ]
     },
     "metadata": {
      "needs_background": "light"
     },
     "output_type": "display_data"
    }
   ],
   "source": [
    "rows = 4\n",
    "cols = 3\n",
    "\n",
    "fig = plt.figure(figsize=(16, 16))\n",
    "\n",
    "fig.add_subplot(rows, cols, 1)\n",
    "plt.xlabel('Original Image')\n",
    "plt.imshow(train_data[0])\n",
    "fig.add_subplot(rows, cols, 2)\n",
    "plt.xlabel('Flip Vertical')\n",
    "plt.imshow(flip_vertical[0])\n",
    "fig.add_subplot(rows, cols, 3)\n",
    "plt.xlabel('Flip Horizontal')\n",
    "plt.imshow(flip_horizontal[0])\n",
    "fig.add_subplot(rows, cols, 4)\n",
    "plt.imshow(flip_both[0])\n",
    "plt.xlabel('Flip Both')\n",
    "fig.add_subplot(rows, cols, 5)\n",
    "plt.xlabel('Rotate 90 degree cw')\n",
    "plt.imshow(rotate_ninety_cw[0])\n",
    "fig.add_subplot(rows, cols, 6)\n",
    "plt.xlabel('Rotate 90 degree ccw')\n",
    "plt.imshow(rotate_nintey_ccw[0])\n",
    "fig.add_subplot(rows, cols, 7)\n",
    "plt.xlabel('Translate Right')\n",
    "plt.imshow(translate_right[0])\n",
    "fig.add_subplot(rows, cols, 8)\n",
    "plt.xlabel('Translate Left')\n",
    "plt.imshow(translate_left[0])\n",
    "fig.add_subplot(rows, cols, 9)\n",
    "plt.xlabel('Translate Up')\n",
    "plt.imshow(translate_up[0])\n",
    "fig.add_subplot(rows, cols, 10)\n",
    "plt.xlabel('Translate Down')\n",
    "plt.imshow(translate_down[0])\n",
    "\n",
    "plt.show()"
   ]
  },
  {
   "cell_type": "markdown",
   "metadata": {},
   "source": [
    "### Define CNN Model with Keras"
   ]
  },
  {
   "cell_type": "code",
   "execution_count": 15,
   "metadata": {},
   "outputs": [],
   "source": [
    "model = tf.keras.models.Sequential()\n",
    "# First conv layer\n",
    "model.add(tf.keras.layers.Conv2D(32, (3,3), padding=\"same\", activation=\"relu\", input_shape=(32,32,3)))\n",
    "model.add(tf.keras.layers.Conv2D(32, (3,3), padding=\"same\", activation=\"relu\"))\n",
    "model.add(tf.keras.layers.MaxPool2D(pool_size=(2,2)))\n",
    "model.add(tf.keras.layers.Dropout(0.2))\n",
    "\n",
    "# Second conv layer\n",
    "model.add(tf.keras.layers.Conv2D(64, (3,3), padding=\"same\", activation=\"relu\"))\n",
    "model.add(tf.keras.layers.Conv2D(64, (3,3), padding=\"same\", activation=\"relu\"))\n",
    "model.add(tf.keras.layers.MaxPool2D(pool_size=(2,2)))\n",
    "model.add(tf.keras.layers.Dropout(0.2))\n",
    "\n",
    "# Third conv layer\n",
    "model.add(tf.keras.layers.Conv2D(128, (3,3), padding=\"same\", activation=\"relu\"))\n",
    "model.add(tf.keras.layers.Conv2D(128, (3,3), padding=\"same\", activation=\"relu\"))\n",
    "model.add(tf.keras.layers.Conv2D(128, (3,3), padding=\"same\", activation=\"relu\"))\n",
    "model.add(tf.keras.layers.MaxPool2D(pool_size=(2,2)))\n",
    "\n",
    "# Flatten the model\n",
    "model.add(tf.keras.layers.Flatten())\n",
    "# Dense layer\n",
    "model.add(tf.keras.layers.Dense(2048, activation=\"relu\"))\n",
    "model.add(tf.keras.layers.Dropout(0.4))\n",
    "model.add(tf.keras.layers.Dense(2, activation=\"softmax\"))"
   ]
  },
  {
   "cell_type": "code",
   "execution_count": 16,
   "metadata": {},
   "outputs": [
    {
     "name": "stdout",
     "output_type": "stream",
     "text": [
      "Model: \"sequential_1\"\n",
      "_________________________________________________________________\n",
      "Layer (type)                 Output Shape              Param #   \n",
      "=================================================================\n",
      "conv2d_7 (Conv2D)            (None, 32, 32, 32)        896       \n",
      "_________________________________________________________________\n",
      "conv2d_8 (Conv2D)            (None, 32, 32, 32)        9248      \n",
      "_________________________________________________________________\n",
      "max_pooling2d_3 (MaxPooling2 (None, 16, 16, 32)        0         \n",
      "_________________________________________________________________\n",
      "conv2d_9 (Conv2D)            (None, 16, 16, 64)        18496     \n",
      "_________________________________________________________________\n",
      "conv2d_10 (Conv2D)           (None, 16, 16, 64)        36928     \n",
      "_________________________________________________________________\n",
      "max_pooling2d_4 (MaxPooling2 (None, 8, 8, 64)          0         \n",
      "_________________________________________________________________\n",
      "conv2d_11 (Conv2D)           (None, 8, 8, 128)         73856     \n",
      "_________________________________________________________________\n",
      "conv2d_12 (Conv2D)           (None, 8, 8, 128)         147584    \n",
      "_________________________________________________________________\n",
      "conv2d_13 (Conv2D)           (None, 8, 8, 128)         147584    \n",
      "_________________________________________________________________\n",
      "max_pooling2d_5 (MaxPooling2 (None, 4, 4, 128)         0         \n",
      "_________________________________________________________________\n",
      "flatten_1 (Flatten)          (None, 2048)              0         \n",
      "_________________________________________________________________\n",
      "dense_2 (Dense)              (None, 2048)              4196352   \n",
      "_________________________________________________________________\n",
      "dropout_3 (Dropout)          (None, 2048)              0         \n",
      "_________________________________________________________________\n",
      "dense_3 (Dense)              (None, 2)                 4098      \n",
      "=================================================================\n",
      "Total params: 4,635,042\n",
      "Trainable params: 4,635,042\n",
      "Non-trainable params: 0\n",
      "_________________________________________________________________\n"
     ]
    }
   ],
   "source": [
    "model.summary()"
   ]
  },
  {
   "cell_type": "code",
   "execution_count": null,
   "metadata": {},
   "outputs": [],
   "source": []
  },
  {
   "cell_type": "markdown",
   "metadata": {},
   "source": [
    "### Compile & train the model"
   ]
  },
  {
   "cell_type": "code",
   "execution_count": 12,
   "metadata": {},
   "outputs": [
    {
     "name": "stdout",
     "output_type": "stream",
     "text": [
      "Train on 50000 samples, validate on 10000 samples\n",
      "Epoch 1/20\n",
      "50000/50000 [==============================] - 171s 3ms/sample - loss: 0.3146 - accuracy: 0.8659 - val_loss: 0.2292 - val_accuracy: 0.9064\n",
      "Epoch 2/20\n",
      "50000/50000 [==============================] - 178s 4ms/sample - loss: 0.2269 - accuracy: 0.9097 - val_loss: 0.2251 - val_accuracy: 0.9102\n",
      "Epoch 3/20\n",
      "50000/50000 [==============================] - 186s 4ms/sample - loss: 0.2020 - accuracy: 0.9190 - val_loss: 0.1766 - val_accuracy: 0.9287\n",
      "Epoch 4/20\n",
      "50000/50000 [==============================] - 184s 4ms/sample - loss: 0.1839 - accuracy: 0.9273 - val_loss: 0.1969 - val_accuracy: 0.9213\n",
      "Epoch 5/20\n",
      "50000/50000 [==============================] - 188s 4ms/sample - loss: 0.1689 - accuracy: 0.9329 - val_loss: 0.1716 - val_accuracy: 0.9307\n",
      "Epoch 6/20\n",
      "50000/50000 [==============================] - 187s 4ms/sample - loss: 0.1549 - accuracy: 0.9395 - val_loss: 0.1560 - val_accuracy: 0.9377\n",
      "Epoch 7/20\n",
      "50000/50000 [==============================] - 178s 4ms/sample - loss: 0.1454 - accuracy: 0.9434 - val_loss: 0.1474 - val_accuracy: 0.9409\n",
      "Epoch 8/20\n",
      "50000/50000 [==============================] - 169s 3ms/sample - loss: 0.1348 - accuracy: 0.9480 - val_loss: 0.1410 - val_accuracy: 0.9422\n",
      "Epoch 9/20\n",
      "50000/50000 [==============================] - 171s 3ms/sample - loss: 0.1255 - accuracy: 0.9519 - val_loss: 0.1347 - val_accuracy: 0.9478\n",
      "Epoch 10/20\n",
      "50000/50000 [==============================] - 172s 3ms/sample - loss: 0.1136 - accuracy: 0.9558 - val_loss: 0.1270 - val_accuracy: 0.9495\n",
      "Epoch 11/20\n",
      "50000/50000 [==============================] - 170s 3ms/sample - loss: 0.1050 - accuracy: 0.9594 - val_loss: 0.1255 - val_accuracy: 0.9521\n",
      "Epoch 12/20\n",
      "50000/50000 [==============================] - 170s 3ms/sample - loss: 0.0977 - accuracy: 0.9624 - val_loss: 0.1290 - val_accuracy: 0.9485\n",
      "Epoch 13/20\n",
      "50000/50000 [==============================] - 169s 3ms/sample - loss: 0.0908 - accuracy: 0.9653 - val_loss: 0.1252 - val_accuracy: 0.9529\n",
      "Epoch 14/20\n",
      "50000/50000 [==============================] - 169s 3ms/sample - loss: 0.0844 - accuracy: 0.9677 - val_loss: 0.1279 - val_accuracy: 0.9539\n",
      "Epoch 15/20\n",
      "50000/50000 [==============================] - 169s 3ms/sample - loss: 0.0744 - accuracy: 0.9717 - val_loss: 0.1305 - val_accuracy: 0.9534\n",
      "Epoch 16/20\n",
      "50000/50000 [==============================] - 173s 3ms/sample - loss: 0.0710 - accuracy: 0.9729 - val_loss: 0.1321 - val_accuracy: 0.9541\n",
      "Epoch 17/20\n",
      "50000/50000 [==============================] - 170s 3ms/sample - loss: 0.0612 - accuracy: 0.9763 - val_loss: 0.1348 - val_accuracy: 0.9525\n",
      "Epoch 18/20\n",
      "50000/50000 [==============================] - 170s 3ms/sample - loss: 0.0551 - accuracy: 0.9796 - val_loss: 0.1353 - val_accuracy: 0.9552\n",
      "Epoch 19/20\n",
      "50000/50000 [==============================] - 172s 3ms/sample - loss: 0.0519 - accuracy: 0.9809 - val_loss: 0.1319 - val_accuracy: 0.9549\n",
      "Epoch 20/20\n",
      "50000/50000 [==============================] - 169s 3ms/sample - loss: 0.0467 - accuracy: 0.9825 - val_loss: 0.1503 - val_accuracy: 0.9511\n"
     ]
    }
   ],
   "source": [
    "# Specify the training configuration (optimizer, loss, metrics)\n",
    "model.compile(optimizer=tf.keras.optimizers.Adam(lr=0.0001),  \n",
    "              loss='sparse_categorical_crossentropy',\n",
    "              metrics=['accuracy'])\n",
    "\n",
    "history = model.fit(train_data, train_labels, epochs=20, validation_data=(test_data, test_labels))"
   ]
  },
  {
   "cell_type": "code",
   "execution_count": null,
   "metadata": {},
   "outputs": [],
   "source": []
  },
  {
   "cell_type": "markdown",
   "metadata": {},
   "source": [
    "### Plot the results"
   ]
  },
  {
   "cell_type": "code",
   "execution_count": 13,
   "metadata": {},
   "outputs": [
    {
     "name": "stdout",
     "output_type": "stream",
     "text": [
      "10000/1 - 6s - loss: 0.0800 - accuracy: 0.9511\n"
     ]
    },
    {
     "data": {
      "image/png": "[encoded data removed]",
      "text/plain": [
       "<Figure size 432x288 with 1 Axes>"
      ]
     },
     "metadata": {
      "needs_background": "light"
     },
     "output_type": "display_data"
    }
   ],
   "source": [
    "plt.plot(history.history['accuracy'], label='training')\n",
    "plt.plot(history.history['val_accuracy'], label='validation')\n",
    "plt.xlabel('Epoch')\n",
    "plt.ylabel('Accuracy')\n",
    "plt.ylim([0.5, 1])\n",
    "plt.legend(loc='lower left')\n",
    "\n",
    "final_loss, final_acc = model.evaluate(test_data, test_labels, verbose=2)"
   ]
  },
  {
   "cell_type": "code",
   "execution_count": 14,
   "metadata": {},
   "outputs": [
    {
     "name": "stdout",
     "output_type": "stream",
     "text": [
      "0.9511\n",
      "0.15031696381308138\n"
     ]
    }
   ],
   "source": [
    "print(final_acc)\n",
    "print(final_loss)"
   ]
  },
  {
   "cell_type": "code",
   "execution_count": null,
   "metadata": {},
   "outputs": [],
   "source": []
  }
 ],
 "metadata": {
  "anaconda-cloud": {},
  "celltoolbar": "Edit Metadata",
  "kernelspec": {
   "display_name": "Python 3",
   "language": "python",
   "name": "python3"
  },
  "language_info": {
   "codemirror_mode": {
    "name": "ipython",
    "version": 3
   },
   "file_extension": ".py",
   "mimetype": "text/x-python",
   "name": "python",
   "nbconvert_exporter": "python",
   "pygments_lexer": "ipython3",
   "version": "3.7.2"
  },
  "widgets": {
   "application/vnd.jupyter.widget-state+json": {
    "state": {},
    "version_major": 2,
    "version_minor": 0
   }
  }
 },
 "nbformat": 4,
 "nbformat_minor": 2
}
