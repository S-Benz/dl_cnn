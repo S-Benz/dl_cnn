{
 "cells": [
  {
   "cell_type": "markdown",
   "metadata": {},
   "source": [
    "[![Open In Colab](https://colab.research.google.com/assets/colab-badge.svg)](https://colab.research.google.com/github/S-Benz/dl_cnn/blob/master/sa.ipynb)"
   ]
  },
  {
   "cell_type": "markdown",
   "metadata": {},
   "source": [
    "### Install python libraries"
   ]
  },
  {
   "cell_type": "code",
   "execution_count": 12,
   "metadata": {},
   "outputs": [
    {
     "name": "stdout",
     "output_type": "stream",
     "text": [
      "Requirement already satisfied: wget in /home/stefan/Uni/Master/2.Semester/Deep_Learning/Praktikum/dl/lib/python3.6/site-packages (3.2)\r\n"
     ]
    }
   ],
   "source": [
    "!pip install wget"
   ]
  },
  {
   "cell_type": "code",
   "execution_count": 1,
   "metadata": {},
   "outputs": [],
   "source": [
    "from __future__ import absolute_import, division, print_function, unicode_literals\n",
    "\n",
    "import tensorflow as tf\n",
    "import numpy as np\n",
    "import pickle \n",
    "import tarfile\n",
    "import wget\n",
    "import os.path\n",
    "import matplotlib.pyplot as plt"
   ]
  },
  {
   "cell_type": "code",
   "execution_count": 2,
   "metadata": {},
   "outputs": [],
   "source": [
    "# get dict of cifar data file\n",
    "# TODO: fix byte string error e.g. dict key data -> b'data' after pickle.load!!!\n",
    "def batch_to_dict(file):\n",
    "    with open(file, \"rb\") as f:\n",
    "        dict = pickle.load(f, encoding=\"bytes\")\n",
    "    return dict    "
   ]
  },
  {
   "cell_type": "code",
   "execution_count": 3,
   "metadata": {},
   "outputs": [],
   "source": [
    "# convert batch_data to images\n",
    "def bdata_to_images(bdata):\n",
    "    #  Reshape data and to float and normalize it to avoid exploding weights\n",
    "    data = np.reshape(bdata, (-1,3,32,32)).astype(\"float32\") / 255\n",
    "    # Transpose data to shape (32, 32, 3) for the keras model\n",
    "    data = np.transpose(data, (0, 2, 3, 1))\n",
    "    return data\n",
    "\n",
    "def map_label(label):\n",
    "    living_labels = [2,3,4,5,6,7]\n",
    "    return int(label in living_labels)"
   ]
  },
  {
   "cell_type": "markdown",
   "metadata": {},
   "source": [
    "### Load the CIFAR-100 dataset"
   ]
  },
  {
   "cell_type": "code",
   "execution_count": 4,
   "metadata": {},
   "outputs": [],
   "source": [
    "cifar_data_url = \"https://www.cs.toronto.edu/~kriz/cifar-10-python.tar.gz\"\n",
    "dl_dir = \"cifar.tar.gz\"\n",
    "batches_dir = \"cifar-batches\"\n",
    "train_batch_files = [batches_dir + \"/data_batch_1\",\n",
    "               batches_dir + \"/data_batch_2\", \n",
    "               batches_dir + \"/data_batch_3\", \n",
    "               batches_dir + \"/data_batch_4\", \n",
    "               batches_dir + \"/data_batch_5\"]\n",
    "test_batch_file = batches_dir + \"/test_batch\"\n",
    "\n",
    "batch_meta = batches_dir + \"/batches.meta\"\n",
    "\n",
    "# check if data set has been downloaded\n",
    "if not os.path.exists(dl_dir):\n",
    "    wget.download(cifar_data_url, dl_dir)\n",
    "\n",
    "# extract the batches\n",
    "if not os.path.exists(batches_dir):    \n",
    "    tar = tarfile.open(dl_dir, \"r:gz\")\n",
    "    for member in tar.getmembers():\n",
    "        if member.isreg():\n",
    "            member.name = os.path.basename(member.name)\n",
    "            tar.extract(member, batches_dir)\n",
    "    tar.close()\n",
    "\n",
    "batch_dicts = {}\n",
    "    \n",
    "# convert train batches to dicts and save in batch_dicts\n",
    "# dict_keys([b'batch_label', b'labels', b'data', b'filenames'])\n",
    "for batch in train_batch_files:\n",
    "    d = batch_to_dict(batch)\n",
    "    k = os.path.basename(batch)\n",
    "    batch_dicts[k] = d                          "
   ]
  },
  {
   "cell_type": "markdown",
   "metadata": {},
   "source": [
    "### Get Train & Test Labels/Data"
   ]
  },
  {
   "cell_type": "code",
   "execution_count": 9,
   "metadata": {},
   "outputs": [],
   "source": [
    "# get train data & labels\n",
    "train_labels = np.array([])\n",
    "train_data = np.array([])\n",
    "\n",
    "# concatenate all train datas\n",
    "train_data = np.concatenate((bdata_to_images(batch_dicts['data_batch_1'][b'data']), \n",
    "bdata_to_images(batch_dicts['data_batch_2'][b'data']),\n",
    "bdata_to_images(batch_dicts['data_batch_3'][b'data']),\n",
    "bdata_to_images(batch_dicts['data_batch_4'][b'data']),\n",
    "bdata_to_images(batch_dicts['data_batch_5'][b'data'])), axis=0)\n",
    "\n",
    "'''\n",
    "Fragen wegen one hot encoding bei nur 2 Klassen -> 0 und 1?\n",
    "'''\n",
    "\n",
    "# concatenate all labels\n",
    "for key in batch_dicts.keys(): \n",
    "    labels = np.asarray(list((map(map_label, batch_dicts[key][b'labels']))))   \n",
    "    train_labels = np.append(train_labels, labels)\n",
    "    \n",
    "# get test data & labels\n",
    "test_batch = batch_to_dict(test_batch_file)\n",
    "test_data = bdata_to_images(test_batch[b'data'])\n",
    "test_labels = np.asarray(list((map(map_label, test_batch[b'labels']))))"
   ]
  },
  {
   "cell_type": "markdown",
   "metadata": {},
   "source": [
    "### Define CNN Model with Keras"
   ]
  },
  {
   "cell_type": "code",
   "execution_count": 48,
   "metadata": {
    "scrolled": true
   },
   "outputs": [],
   "source": [
    "model = tf.keras.models.Sequential()\n",
    "# First conv layer\n",
    "model.add(tf.keras.layers.Conv2D(64, (3,3), padding=\"same\", activation=\"relu\", input_shape=(32, 32, 3)))\n",
    "model.add(tf.keras.layers.MaxPool2D(pool_size=(2,2)))\n",
    "# Second conv layer\n",
    "model.add(tf.keras.layers.Conv2D(128, (3,3), padding=\"same\", activation=\"relu\"))\n",
    "model.add(tf.keras.layers.MaxPool2D(pool_size=(2,2)))\n",
    "# Flatten the model\n",
    "model.add(tf.keras.layers.Flatten())\n",
    "# Dense layer\n",
    "model.add(tf.keras.layers.Dense(64, activation=\"relu\"))\n",
    "model.add(tf.keras.layers.Dense(2, activation=\"softmax\"))"
   ]
  },
  {
   "cell_type": "code",
   "execution_count": 49,
   "metadata": {},
   "outputs": [
    {
     "name": "stdout",
     "output_type": "stream",
     "text": [
      "Model: \"sequential_3\"\n",
      "_________________________________________________________________\n",
      "Layer (type)                 Output Shape              Param #   \n",
      "=================================================================\n",
      "conv2d_6 (Conv2D)            (None, 32, 32, 64)        1792      \n",
      "_________________________________________________________________\n",
      "max_pooling2d_6 (MaxPooling2 (None, 16, 16, 64)        0         \n",
      "_________________________________________________________________\n",
      "conv2d_7 (Conv2D)            (None, 16, 16, 128)       73856     \n",
      "_________________________________________________________________\n",
      "max_pooling2d_7 (MaxPooling2 (None, 8, 8, 128)         0         \n",
      "_________________________________________________________________\n",
      "dense_6 (Dense)              (None, 8, 8, 64)          8256      \n",
      "_________________________________________________________________\n",
      "dense_7 (Dense)              (None, 8, 8, 2)           130       \n",
      "=================================================================\n",
      "Total params: 84,034\n",
      "Trainable params: 84,034\n",
      "Non-trainable params: 0\n",
      "_________________________________________________________________\n"
     ]
    }
   ],
   "source": [
    "model.summary()"
   ]
  },
  {
   "cell_type": "markdown",
   "metadata": {},
   "source": [
    "### Compile & train the model"
   ]
  },
  {
   "cell_type": "code",
   "execution_count": null,
   "metadata": {},
   "outputs": [],
   "source": [
    "# Specify the training configuration (optimizer, loss, metrics)\n",
    "model.compile(optimizer=tf.keras.optimizers.Adam(lr=0.0001, decay=1e-6),  \n",
    "              loss='sparse_categorical_crossentropy',\n",
    "              metrics=['accuracy'])\n",
    "\n",
    "history = model.fit(train_data, train_labels, epochs=10, validation_data=(test_data, test_labels))"
   ]
  },
  {
   "cell_type": "markdown",
   "metadata": {},
   "source": [
    "### Plot the results"
   ]
  },
  {
   "cell_type": "code",
   "execution_count": null,
   "metadata": {},
   "outputs": [],
   "source": [
    "plt.plot(history.history['acc'], label='training')\n",
    "plt.plot(history.history['val_acc'], label='validation')\n",
    "plt.xlabel('Epoch')\n",
    "plt.ylabel('Accuracy')\n",
    "plt.ylim([0.5, 1])\n",
    "plt.legend(loc='lower left')\n",
    "\n",
    "final_loss, final_acc = model.evaluate(test_data, test_labels, verbose=2)"
   ]
  },
  {
   "cell_type": "code",
   "execution_count": null,
   "metadata": {},
   "outputs": [],
   "source": [
    "print(final_acc)\n",
    "print(final_loss)"
   ]
  }
 ],
 "metadata": {
  "anaconda-cloud": {},
  "kernelspec": {
   "display_name": "Python 3",
   "language": "python",
   "name": "python3"
  },
  "language_info": {
   "codemirror_mode": {
    "name": "ipython",
    "version": 3
   },
   "file_extension": ".py",
   "mimetype": "text/x-python",
   "name": "python",
   "nbconvert_exporter": "python",
   "pygments_lexer": "ipython3",
   "version": "3.6.9"
  },
  "widgets": {
   "application/vnd.jupyter.widget-state+json": {
    "state": {},
    "version_major": 2,
    "version_minor": 0
   }
  }
 },
 "nbformat": 4,
 "nbformat_minor": 2
}
